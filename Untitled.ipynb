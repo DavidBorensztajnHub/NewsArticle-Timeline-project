{
 "cells": [
  {
   "cell_type": "code",
   "execution_count": 9,
   "metadata": {},
   "outputs": [],
   "source": [
    "import json\n",
    "import pandas as pd"
   ]
  },
  {
   "cell_type": "code",
   "execution_count": 5,
   "metadata": {},
   "outputs": [],
   "source": [
    "articles = []\n",
    "file = open(\"articles_en_2020_raw.json\")\n",
    "for article in file:\n",
    "    articles.append(json.loads(article))\n",
    "file.close()"
   ]
  },
  {
   "cell_type": "code",
   "execution_count": 11,
   "metadata": {},
   "outputs": [],
   "source": [
    "dates = [article[\"date\"] for article in articles]\n",
    "bodies = [article[\"body\"] for article in articles]"
   ]
  },
  {
   "cell_type": "code",
   "execution_count": 12,
   "metadata": {},
   "outputs": [],
   "source": [
    "df = pd.DataFrame({\"date\":dates,\"body\":bodies})"
   ]
  },
  {
   "cell_type": "code",
   "execution_count": 13,
   "metadata": {},
   "outputs": [
    {
     "data": {
      "text/html": [
       "<div>\n",
       "<style scoped>\n",
       "    .dataframe tbody tr th:only-of-type {\n",
       "        vertical-align: middle;\n",
       "    }\n",
       "\n",
       "    .dataframe tbody tr th {\n",
       "        vertical-align: top;\n",
       "    }\n",
       "\n",
       "    .dataframe thead th {\n",
       "        text-align: right;\n",
       "    }\n",
       "</style>\n",
       "<table border=\"1\" class=\"dataframe\">\n",
       "  <thead>\n",
       "    <tr style=\"text-align: right;\">\n",
       "      <th></th>\n",
       "      <th>date</th>\n",
       "      <th>body</th>\n",
       "    </tr>\n",
       "  </thead>\n",
       "  <tbody>\n",
       "    <tr>\n",
       "      <th>0</th>\n",
       "      <td>2020-02-16T00:00:00+00:00</td>\n",
       "      <td>[{'type': 'hl1', 'content': 'Questioning CPR a...</td>\n",
       "    </tr>\n",
       "    <tr>\n",
       "      <th>1</th>\n",
       "      <td>2020-02-19T00:00:00+00:00</td>\n",
       "      <td>[{'type': 'hl1', 'content': '‘Taking Sexy Back...</td>\n",
       "    </tr>\n",
       "    <tr>\n",
       "      <th>2</th>\n",
       "      <td>2020-02-26T00:00:00+00:00</td>\n",
       "      <td>[{'type': 'hl1', 'content': 'Deliverance'}, {'...</td>\n",
       "    </tr>\n",
       "    <tr>\n",
       "      <th>3</th>\n",
       "      <td>2020-01-31T00:00:00+00:00</td>\n",
       "      <td>[{'type': 'hl1', 'content': 'Whendunnit?'}, {'...</td>\n",
       "    </tr>\n",
       "    <tr>\n",
       "      <th>4</th>\n",
       "      <td>2020-02-01T00:00:00+00:00</td>\n",
       "      <td>[{'type': 'hl1', 'content': 'EXPERIENCE MATTER...</td>\n",
       "    </tr>\n",
       "  </tbody>\n",
       "</table>\n",
       "</div>"
      ],
      "text/plain": [
       "                        date  \\\n",
       "0  2020-02-16T00:00:00+00:00   \n",
       "1  2020-02-19T00:00:00+00:00   \n",
       "2  2020-02-26T00:00:00+00:00   \n",
       "3  2020-01-31T00:00:00+00:00   \n",
       "4  2020-02-01T00:00:00+00:00   \n",
       "\n",
       "                                                body  \n",
       "0  [{'type': 'hl1', 'content': 'Questioning CPR a...  \n",
       "1  [{'type': 'hl1', 'content': '‘Taking Sexy Back...  \n",
       "2  [{'type': 'hl1', 'content': 'Deliverance'}, {'...  \n",
       "3  [{'type': 'hl1', 'content': 'Whendunnit?'}, {'...  \n",
       "4  [{'type': 'hl1', 'content': 'EXPERIENCE MATTER...  "
      ]
     },
     "execution_count": 13,
     "metadata": {},
     "output_type": "execute_result"
    }
   ],
   "source": [
    "df.head()"
   ]
  },
  {
   "cell_type": "code",
   "execution_count": 15,
   "metadata": {},
   "outputs": [
    {
     "name": "stdout",
     "output_type": "stream",
     "text": [
      "id\n",
      "date\n",
      "provider\n",
      "body\n",
      "streamers\n",
      "images\n",
      "issue\n",
      "format_version\n",
      "_links\n",
      "_embedded\n"
     ]
    }
   ],
   "source": [
    "for i in articles[0]:\n",
    "    print(i)"
   ]
  },
  {
   "cell_type": "code",
   "execution_count": 18,
   "metadata": {},
   "outputs": [
    {
     "name": "stdout",
     "output_type": "stream",
     "text": [
      "[{'featured': True, '_links': {'small': {'width': 298, 'href': 'https://publication.blendleimg.com/publication/atavist/2020/02/26/item/5e52a7d36b667/version/1/image/original/681f6a2fe4f2e13e546f87d69c28cdd1960d56b2.jpg?w=298&h=300', 'height': 300}, 'original': {'width': 1200, 'href': 'https://publication.blendleimg.com/publication/atavist/2020/02/26/item/5e52a7d36b667/version/1/image/original/681f6a2fe4f2e13e546f87d69c28cdd1960d56b2.jpg', 'height': 1209}, 'large': {'width': 893, 'href': 'https://publication.blendleimg.com/publication/atavist/2020/02/26/item/5e52a7d36b667/version/1/image/original/681f6a2fe4f2e13e546f87d69c28cdd1960d56b2.jpg?w=893&h=900', 'height': 900}, 'medium': {'width': 595, 'href': 'https://publication.blendleimg.com/publication/atavist/2020/02/26/item/5e52a7d36b667/version/1/image/original/681f6a2fe4f2e13e546f87d69c28cdd1960d56b2.jpg?w=595&h=600', 'height': 600}}, 'caption': 'Tina Resch on <i>Unsolved Mysteries.</i>'}, {'_links': {'small': {'width': 300, 'href': 'https://publication.blendleimg.com/publication/atavist/2020/02/26/item/5e52a7d36b667/version/1/image/original/e8f8603d3993c27a8241c2bf683c1650550dd45d.jpg?w=300&h=298', 'height': 298}, 'original': {'width': 1200, 'href': 'https://publication.blendleimg.com/publication/atavist/2020/02/26/item/5e52a7d36b667/version/1/image/original/e8f8603d3993c27a8241c2bf683c1650550dd45d.jpg', 'height': 1190}, 'large': {'width': 900, 'href': 'https://publication.blendleimg.com/publication/atavist/2020/02/26/item/5e52a7d36b667/version/1/image/original/e8f8603d3993c27a8241c2bf683c1650550dd45d.jpg?w=900&h=893', 'height': 893}, 'medium': {'width': 600, 'href': 'https://publication.blendleimg.com/publication/atavist/2020/02/26/item/5e52a7d36b667/version/1/image/original/e8f8603d3993c27a8241c2bf683c1650550dd45d.jpg?w=600&h=595', 'height': 595}}, 'caption': 'Sue Horn of the <i>StarNews</i>'}, {'_links': {'small': {'width': 298, 'href': 'https://publication.blendleimg.com/publication/atavist/2020/02/26/item/5e52a7d36b667/version/1/image/original/6500180a43166ae8cc95d24cd00e1ee901e6bf45.jpg?w=298&h=300', 'height': 300}, 'original': {'width': 1200, 'href': 'https://publication.blendleimg.com/publication/atavist/2020/02/26/item/5e52a7d36b667/version/1/image/original/6500180a43166ae8cc95d24cd00e1ee901e6bf45.jpg', 'height': 1209}, 'large': {'width': 893, 'href': 'https://publication.blendleimg.com/publication/atavist/2020/02/26/item/5e52a7d36b667/version/1/image/original/6500180a43166ae8cc95d24cd00e1ee901e6bf45.jpg?w=893&h=900', 'height': 900}, 'medium': {'width': 595, 'href': 'https://publication.blendleimg.com/publication/atavist/2020/02/26/item/5e52a7d36b667/version/1/image/original/6500180a43166ae8cc95d24cd00e1ee901e6bf45.jpg?w=595&h=600', 'height': 600}}, 'caption': 'Amber playing at home.'}, {'_links': {'small': {'width': 298, 'href': 'https://publication.blendleimg.com/publication/atavist/2020/02/26/item/5e52a7d36b667/version/1/image/original/def63434aa09216f0e56c2231bfc7671fe681a18.jpg?w=298&h=300', 'height': 300}, 'original': {'width': 1200, 'href': 'https://publication.blendleimg.com/publication/atavist/2020/02/26/item/5e52a7d36b667/version/1/image/original/def63434aa09216f0e56c2231bfc7671fe681a18.jpg', 'height': 1210}, 'large': {'width': 893, 'href': 'https://publication.blendleimg.com/publication/atavist/2020/02/26/item/5e52a7d36b667/version/1/image/original/def63434aa09216f0e56c2231bfc7671fe681a18.jpg?w=893&h=900', 'height': 900}, 'medium': {'width': 595, 'href': 'https://publication.blendleimg.com/publication/atavist/2020/02/26/item/5e52a7d36b667/version/1/image/original/def63434aa09216f0e56c2231bfc7671fe681a18.jpg?w=595&h=600', 'height': 600}}, 'caption': 'Amber died in 1992.'}, {'_links': {'small': {'width': 298, 'href': 'https://publication.blendleimg.com/publication/atavist/2020/02/26/item/5e52a7d36b667/version/1/image/original/74974ca0ba4dfe3eac2256be1f15fc6ee3c84a04.jpg?w=298&h=300', 'height': 300}, 'original': {'width': 1200, 'href': 'https://publication.blendleimg.com/publication/atavist/2020/02/26/item/5e52a7d36b667/version/1/image/original/74974ca0ba4dfe3eac2256be1f15fc6ee3c84a04.jpg', 'height': 1210}, 'large': {'width': 893, 'href': 'https://publication.blendleimg.com/publication/atavist/2020/02/26/item/5e52a7d36b667/version/1/image/original/74974ca0ba4dfe3eac2256be1f15fc6ee3c84a04.jpg?w=893&h=900', 'height': 900}, 'medium': {'width': 595, 'href': 'https://publication.blendleimg.com/publication/atavist/2020/02/26/item/5e52a7d36b667/version/1/image/original/74974ca0ba4dfe3eac2256be1f15fc6ee3c84a04.jpg?w=595&h=600', 'height': 600}}, 'caption': 'Christina Boyer and Amber'}, {'_links': {'small': {'width': 300, 'href': 'https://publication.blendleimg.com/publication/atavist/2020/02/26/item/5e52a7d36b667/version/1/image/original/99b414ae6c47b5c8a69b2aabf6632493faff728a.jpg?w=300&h=298', 'height': 298}, 'original': {'width': 1200, 'href': 'https://publication.blendleimg.com/publication/atavist/2020/02/26/item/5e52a7d36b667/version/1/image/original/99b414ae6c47b5c8a69b2aabf6632493faff728a.jpg', 'height': 1190}, 'large': {'width': 900, 'href': 'https://publication.blendleimg.com/publication/atavist/2020/02/26/item/5e52a7d36b667/version/1/image/original/99b414ae6c47b5c8a69b2aabf6632493faff728a.jpg?w=900&h=893', 'height': 893}, 'medium': {'width': 600, 'href': 'https://publication.blendleimg.com/publication/atavist/2020/02/26/item/5e52a7d36b667/version/1/image/original/99b414ae6c47b5c8a69b2aabf6632493faff728a.jpg?w=600&h=595', 'height': 595}}, 'caption': 'The Georgetown students on their way to visit\\xa0Amber’s grave.'}]\n"
     ]
    }
   ],
   "source": [
    "print(articles[2][\"images\"])"
   ]
  },
  {
   "cell_type": "code",
   "execution_count": null,
   "metadata": {},
   "outputs": [],
   "source": []
  }
 ],
 "metadata": {
  "kernelspec": {
   "display_name": "Python 3",
   "language": "python",
   "name": "python3"
  },
  "language_info": {
   "codemirror_mode": {
    "name": "ipython",
    "version": 3
   },
   "file_extension": ".py",
   "mimetype": "text/x-python",
   "name": "python",
   "nbconvert_exporter": "python",
   "pygments_lexer": "ipython3",
   "version": "3.7.6"
  }
 },
 "nbformat": 4,
 "nbformat_minor": 4
}
