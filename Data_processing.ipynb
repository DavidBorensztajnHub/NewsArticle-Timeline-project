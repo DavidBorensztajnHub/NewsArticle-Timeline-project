{
 "cells": [
  {
   "cell_type": "code",
   "execution_count": 15,
   "metadata": {
    "id": "FzH7AbnZU0Mm"
   },
   "outputs": [],
   "source": [
    "import json"
   ]
  },
  {
   "cell_type": "markdown",
   "metadata": {
    "id": "-HgaBaioVWWk"
   },
   "source": [
    "\n"
   ]
  },
  {
   "cell_type": "code",
   "execution_count": 4,
   "metadata": {
    "colab": {
     "base_uri": "https://localhost:8080/"
    },
    "id": "i3anOdUWgO-g",
    "outputId": "ed8326e9-51bf-41e5-ae11-752049703c7d"
   },
   "outputs": [
    {
     "name": "stdout",
     "output_type": "stream",
     "text": [
      "Mounted at /content/drive\n"
     ]
    }
   ],
   "source": [
    "from google.colab import drive\n",
    "drive.mount('/content/drive')"
   ]
  },
  {
   "cell_type": "code",
   "execution_count": 16,
   "metadata": {
    "id": "RRCv66-HhOYl"
   },
   "outputs": [],
   "source": [
    "articles = []\n",
    "file = open(\"/content/drive/MyDrive/Leren&Beslissen/Datasets/articles_en_2019_2020_raw/articles_en_2019_raw.json\")\n",
    "for article in file:\n",
    "    articles.append(json.loads(article))\n",
    "file.close()"
   ]
  },
  {
   "cell_type": "code",
   "execution_count": 37,
   "metadata": {
    "colab": {
     "base_uri": "https://localhost:8080/"
    },
    "id": "bnmASrbiitfX",
    "outputId": "ac7d992f-26dc-43cf-84d3-4c5b7c77a474"
   },
   "outputs": [
    {
     "name": "stdout",
     "output_type": "stream",
     "text": [
      "Instead, Nike has tried to drive consumers to its own shopping apps and reduce its reliance on traditional retailers. In the latest quarter, Chief Executive Mark Parker said digital revenue rose 38% from a year earlier, including a jump of more than 70% on Black Friday in North America.\n"
     ]
    }
   ],
   "source": [
    "print(articles[1][\"body\"][7][\"content\"])"
   ]
  },
  {
   "cell_type": "code",
   "execution_count": null,
   "metadata": {
    "id": "-06YJcjTkke3"
   },
   "outputs": [],
   "source": []
  }
 ],
 "metadata": {
  "colab": {
   "collapsed_sections": [],
   "name": "Data_processing.ipynb",
   "provenance": []
  },
  "kernelspec": {
   "display_name": "Python 3",
   "language": "python",
   "name": "python3"
  },
  "language_info": {
   "codemirror_mode": {
    "name": "ipython",
    "version": 3
   },
   "file_extension": ".py",
   "mimetype": "text/x-python",
   "name": "python",
   "nbconvert_exporter": "python",
   "pygments_lexer": "ipython3",
   "version": "3.8.2"
  }
 },
 "nbformat": 4,
 "nbformat_minor": 1
}
